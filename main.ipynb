{
 "cells": [
  {
   "cell_type": "markdown",
   "metadata": {},
   "source": [
    "# SPQR\n",
    "\n",
    "Tools using for creating and testing IDS/IPS rules\n",
    "\n",
    "Developped by florian LOISY\n"
   ]
  },
  {
   "cell_type": "code",
   "execution_count": null,
   "metadata": {
    "tags": [
     "main"
    ]
   },
   "outputs": [],
   "source": [
    "import os\n",
    "import json\n",
    "import datetime  # Importez le module datetime\n",
    "from scripts.generate_traffic.spqrlib import (\n",
    "    PcapGenerator,\n",
    ")  # Assurez-vous que le nom du fichier est correct\n",
    "from scripts.generate_path.folder import FolderGenerator\n",
    "from scripts.process.process import SuricataExecution\n",
    "import ipywidgets as widgets\n",
    "from IPython.display import display\n",
    "from os import path\n"
   ]
  },
  {
   "cell_type": "markdown",
   "metadata": {},
   "source": [
    "## Définition des Données de la tâches à traiter\n",
    "\n",
    "Veuillez compléter la cellule suivante avec les informations associées à la tâche en cours."
   ]
  },
  {
   "cell_type": "code",
   "execution_count": null,
   "metadata": {
    "tags": [
     "main"
    ]
   },
   "outputs": [],
   "source": [
    "'''\n",
    "Cette cellule contient les variables à modifier en amont par l'analyste pour répondre au besoin à traiter.\n",
    "\n",
    "Dans le cadre de la génération d'un fichier de capture réseau:\n",
    "    - veuillez modifier les pattern à générer dans le fichier /spqr/config/config.json\n",
    "    \n",
    "Dans le cadre d'un test sur un fichier déjà existant:\n",
    "    - copier le fichier dans le dossier /spqr/input\n",
    "    - saisir le nom du fichier à la variable file_pcap_name de cette cellule.\n",
    "'''\n",
    "\n",
    "# Variables du nom de dossier\n",
    "\n",
    "nom_dossier = \"Regle_ANUBIS\"\n",
    "nom_bapteme = \"ANUBIS\"\n",
    "tlp = \"WHITE\"  # saisir WHITE / GREEN / AMBER / RED\n",
    "pap = \"WHITE\"  # saisir WHITE / GREEN / AMBER / RED\n",
    "\n",
    "# Variables des options d'execution\n",
    "\n",
    "test_with_pcap = True # saisir \"True\" ou \"False\" en fonction d'un test avec ou sans fichier de capture réseau\n",
    "file_pcap_exist = False # saisir \"True\" ou \"False\" en fonction de la présence du fichier pcap pour le test\n",
    "file_pcap_name = \"file_YYYMMDDHHmmss.pcap\" # indiquer le nom du fichier fourni que vous aurez placer dans le dossier \"/input\"\n",
    "\n",
    "\n",
    "\n"
   ]
  },
  {
   "cell_type": "markdown",
   "metadata": {},
   "source": [
    "## Création des dossiers en OUTPUT"
   ]
  },
  {
   "cell_type": "code",
   "execution_count": null,
   "metadata": {
    "tags": [
     "main"
    ]
   },
   "outputs": [],
   "source": [
    "# Variables du dossier d'output pour ce notebook\n",
    "\n",
    "volume = os.path.abspath('./')  # indique le dossier de travail du projet\n",
    "\n",
    "# Définition du dossier d'output pour ce notebook\n",
    "\n",
    "fg = FolderGenerator()\n",
    "pcap_path = fg.generate_folder(volume=volume, nom_dossier=nom_dossier)[\"pcap_path\"]\n",
    "result_path = fg.generate_folder(volume=volume, nom_dossier=nom_dossier)[\"result_path\"]\n",
    "\n",
    "# Initialisation de la variable process (NE PAS MODIFIER)\n",
    "\n",
    "process = 0\n"
   ]
  },
  {
   "cell_type": "markdown",
   "metadata": {},
   "source": [
    "## Définition du processus de test"
   ]
  },
  {
   "cell_type": "code",
   "execution_count": null,
   "metadata": {},
   "outputs": [],
   "source": [
    "# Chargez la configuration à partir du fichier config.json\n",
    "\n",
    "'''\n",
    "Cette cellule a pour objectif de définir le déroulement des actions à venir en définissant le process à executer.\n",
    "    process == 0 >> Une erreur est survenue\n",
    "    process == 1 >> Le test ce fera sur un pcap fourni par l'analyste\n",
    "    process == 2 >> Le test ce fera sur un pcap généré par un script python et l'outil SCAPY selon les variables définies par l'analyste dans le fichier config.json \n",
    "    process == 3 >> Le test ce fera sans traitement de pcap et fournira l'analyse syntaxique de la règle SURICATA par la sonde réseau SURICATA.\n",
    "\n",
    "Il est actuellement possible de généré :\n",
    "    des flux HTTP avec prise en compte du handshake TCP d'une requete client > server de la reponse du serveur et d'une fermeture de session\n",
    "    des flux DNS avec une requete DNS client > server et une reponse du server > client\n",
    "    des flux ICMP avec une requete type echo request et une reponse type echo-reply\n",
    "'''\n",
    "\n",
    "if test_with_pcap:\n",
    "    if file_pcap_exist:\n",
    "        file = pcap_path+\"/\"+file_pcap_name\n",
    "        if not os.path.exists(file):\n",
    "            copie_pcap = f\"mv ./input/{file_pcap_name} {file}\"\n",
    "            os.system(copie_pcap)\n",
    "            print(f\"Le fichier {file_pcap_name} a été déplacé dans le dossier : {pcap_path}\")\n",
    "            \n",
    "        else:\n",
    "            pass\n",
    "\n",
    "        print(f\"Le test sera effectué sur le fichier {file}\")\n",
    "        output_pcap=file\n",
    "        process = 1\n",
    "\n",
    "    else:\n",
    "        with open(\"config/config.json\", \"r\") as config_file:\n",
    "            config_data = json.load(config_file)\n",
    "        process = 2\n",
    "        \n",
    "        # Créez des widgets pour chaque type de flux\n",
    "        http_checkbox = widgets.Checkbox(description=\"HTTP\", value=False)\n",
    "        dns_checkbox = widgets.Checkbox(description=\"DNS\", value=False)\n",
    "        icmp_checkbox = widgets.Checkbox(description=\"ICMP\", value=False) \n",
    "                    \n",
    "else:\n",
    "    process = 3\n",
    "    output_pcap=\"-\"\n",
    "    print(\"Contrôle de syntaxe de la règle suricata\")"
   ]
  },
  {
   "cell_type": "markdown",
   "metadata": {},
   "source": [
    "## Génération d'un flux réseau\n",
    "\n",
    "\n",
    "\n"
   ]
  },
  {
   "cell_type": "code",
   "execution_count": null,
   "metadata": {
    "tags": [
     "pcap",
     "generator"
    ]
   },
   "outputs": [],
   "source": [
    "# validation du process\n",
    "\n",
    "'''\n",
    "Cette cellule à pour objectif de générer un fichier de capture réseau \".pcap\" si le process est défini à 2.\n",
    "Dans un premier temps :\n",
    "    Une box est ouverte et invite l'analyste à sélectionner le(s) protocole(s) réseau à générer\n",
    "Dans un second temps :\n",
    "    Un fichier .pcap est généré et enregistrer (par défaut) dans le dossier /spqr/output/<nom_dossier>/pcap/\n",
    "'''\n",
    "\n",
    "\n",
    "if process == 2:\n",
    "    # Créez une instance de FlowGenerator avec un nom de fichier basé sur la date actuelle\n",
    "    current_datetime = datetime.datetime.now().strftime(\"%Y%m%d%H%M%S\")\n",
    "    output_pcap = \"output_\" + current_datetime + \".pcap\"\n",
    "\n",
    "    # Créez un bouton pour générer les paquets\n",
    "    generate_button = widgets.Button(description=\"Générer les paquets\")\n",
    "    generate_button.on_click(\n",
    "        lambda x: PcapGenerator.create_packets(\n",
    "            http_checkbox.value,\n",
    "            dns_checkbox.value,\n",
    "            icmp_checkbox.value,\n",
    "            pcap_path,\n",
    "            current_datetime,\n",
    "        )\n",
    "    )\n",
    "\n",
    "    # Affichez les widgets et le bouton\n",
    "    display(http_checkbox, dns_checkbox, icmp_checkbox, generate_button)\n",
    "\n",
    "else:\n",
    "    pass"
   ]
  },
  {
   "cell_type": "markdown",
   "metadata": {},
   "source": [
    "## Lancement de SURICATA"
   ]
  },
  {
   "cell_type": "code",
   "execution_count": null,
   "metadata": {
    "tags": [
     "Suricata",
     "pcap"
    ]
   },
   "outputs": [],
   "source": [
    "'''\n",
    "Cette cellule sert à executer SURICATA dans une version dockerisée avec des options choisi selon le process à dérouler.\n",
    "Les résultats sont disponibles (par défaut) dans le dossier /spqr/output/<nom_dossier>/result/<current_time>/\n",
    "'''\n",
    "#print(output_pcap)\n",
    "suri=SuricataExecution()\n",
    "suri.suricata_execution(process=process, result_path=result_path, pcap_path=pcap_path, nom_dossier=nom_dossier, file_pcap_name=file_pcap_name, output_pcap=output_pcap)\n"
   ]
  },
  {
   "cell_type": "markdown",
   "metadata": {},
   "source": []
  }
 ],
 "metadata": {
  "kernelspec": {
   "display_name": "spqr_venv",
   "language": "python",
   "name": "python3"
  },
  "language_info": {
   "codemirror_mode": {
    "name": "ipython",
    "version": 3
   },
   "file_extension": ".py",
   "mimetype": "text/x-python",
   "name": "python",
   "nbconvert_exporter": "python",
   "pygments_lexer": "ipython3",
   "version": "3.11.2"
  },
  "orig_nbformat": 4
 },
 "nbformat": 4,
 "nbformat_minor": 2
}
